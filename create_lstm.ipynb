{
 "cells": [
  {
   "cell_type": "markdown",
   "metadata": {},
   "source": [
    "# LSTM Model for Human Detection and Tracking"
   ]
  },
  {
   "cell_type": "code",
   "execution_count": 1,
   "metadata": {},
   "outputs": [],
   "source": [
    "import os\n",
    "import cv2\n",
    "import numpy as np\n",
    "import json\n",
    "import matplotlib.pyplot as plt\n",
    "from keras.models import Sequential\n",
    "from keras.layers import LSTM, Dense, Dropout\n",
    "from sklearn.model_selection import train_test_split"
   ]
  },
  {
   "cell_type": "code",
   "execution_count": 2,
   "metadata": {},
   "outputs": [],
   "source": [
    "# Paths Setup\n",
    "base_dir = os.path.abspath('dataset/personpath22')\n",
    "video_path = os.path.join(base_dir, 'raw_data')\n",
    "annotation_dir = os.path.join(base_dir, 'annotation')\n",
    "processed_data_path = os.path.join(base_dir, 'processed_data.npz')\n",
    "\n",
    "# Annotation Files\n",
    "amodal_file = os.path.join(annotation_dir, 'anno_amodal_2022.json')\n",
    "visible_file = os.path.join(annotation_dir, 'anno_visible_2022.json')\n",
    "splits_file = os.path.join(annotation_dir, 'splits.json')"
   ]
  },
  {
   "cell_type": "code",
   "execution_count": 3,
   "metadata": {},
   "outputs": [
    {
     "name": "stdout",
     "output_type": "stream",
     "text": [
      "Available video files: ['uid_vid_00000.mp4', 'uid_vid_00001.mp4', 'uid_vid_00002.mp4', 'uid_vid_00003.mp4', 'uid_vid_00004.mp4', 'uid_vid_00005.mp4', 'uid_vid_00006.mp4', 'uid_vid_00007.mp4', 'uid_vid_00008.mp4', 'uid_vid_00009.mp4', 'uid_vid_00010.mp4', 'uid_vid_00011.mp4', 'uid_vid_00012.mp4', 'uid_vid_00013.mp4', 'uid_vid_00014.mp4', 'uid_vid_00015.mp4', 'uid_vid_00016.mp4', 'uid_vid_00017.mp4', 'uid_vid_00018.mp4', 'uid_vid_00019.mp4', 'uid_vid_00020.mp4', 'uid_vid_00021.mp4', 'uid_vid_00022.mp4', 'uid_vid_00023.mp4', 'uid_vid_00024.mp4', 'uid_vid_00025.mp4', 'uid_vid_00026.mp4', 'uid_vid_00027.mp4', 'uid_vid_00028.mp4', 'uid_vid_00029.mp4', 'uid_vid_00030.mp4', 'uid_vid_00031.mp4', 'uid_vid_00032.mp4', 'uid_vid_00033.mp4', 'uid_vid_00034.mp4', 'uid_vid_00035.mp4', 'uid_vid_00036.mp4', 'uid_vid_00037.mp4', 'uid_vid_00038.mp4', 'uid_vid_00039.mp4', 'uid_vid_00040.mp4', 'uid_vid_00041.mp4', 'uid_vid_00042.mp4', 'uid_vid_00043.mp4', 'uid_vid_00044.mp4', 'uid_vid_00045.mp4', 'uid_vid_00046.mp4', 'uid_vid_00047.mp4', 'uid_vid_00048.mp4', 'uid_vid_00049.mp4', 'uid_vid_00050.mp4', 'uid_vid_00051.mp4', 'uid_vid_00052.mp4', 'uid_vid_00053.mp4', 'uid_vid_00054.mp4', 'uid_vid_00055.mp4', 'uid_vid_00056.mp4', 'uid_vid_00057.mp4', 'uid_vid_00058.mp4', 'uid_vid_00059.mp4', 'uid_vid_00060.mp4', 'uid_vid_00061.mp4', 'uid_vid_00062.mp4', 'uid_vid_00063.mp4', 'uid_vid_00064.mp4', 'uid_vid_00065.mp4', 'uid_vid_00066.mp4', 'uid_vid_00067.mp4', 'uid_vid_00068.mp4', 'uid_vid_00069.mp4', 'uid_vid_00070.mp4', 'uid_vid_00071.mp4', 'uid_vid_00072.mp4', 'uid_vid_00073.mp4', 'uid_vid_00074.mp4', 'uid_vid_00075.mp4', 'uid_vid_00076.mp4', 'uid_vid_00077.mp4', 'uid_vid_00078.mp4', 'uid_vid_00079.mp4', 'uid_vid_00080.mp4', 'uid_vid_00081.mp4', 'uid_vid_00082.mp4', 'uid_vid_00083.mp4', 'uid_vid_00084.mp4', 'uid_vid_00085.mp4', 'uid_vid_00086.mp4', 'uid_vid_00087.mp4', 'uid_vid_00088.mp4', 'uid_vid_00089.mp4', 'uid_vid_00090.mp4', 'uid_vid_00091.mp4', 'uid_vid_00092.mp4', 'uid_vid_00093.mp4', 'uid_vid_00094.mp4', 'uid_vid_00095.mp4', 'uid_vid_00096.mp4', 'uid_vid_00097.mp4', 'uid_vid_00098.mp4', 'uid_vid_00099.mp4', 'uid_vid_00100.mp4', 'uid_vid_00101.mp4', 'uid_vid_00144.mp4', 'uid_vid_00145.mp4', 'uid_vid_00146.mp4', 'uid_vid_00147.mp4', 'uid_vid_00148.mp4', 'uid_vid_00149.mp4', 'uid_vid_00150.mp4', 'uid_vid_00151.mp4', 'uid_vid_00152.mp4', 'uid_vid_00153.mp4', 'uid_vid_00154.mp4', 'uid_vid_00155.mp4', 'uid_vid_00156.mp4', 'uid_vid_00157.mp4', 'uid_vid_00158.mp4', 'uid_vid_00159.mp4', 'uid_vid_00160.mp4', 'uid_vid_00161.mp4', 'uid_vid_00162.mp4', 'uid_vid_00163.mp4', 'uid_vid_00164.mp4', 'uid_vid_00165.mp4', 'uid_vid_00166.mp4', 'uid_vid_00167.mp4', 'uid_vid_00168.mp4', 'uid_vid_00169.mp4', 'uid_vid_00170.mp4', 'uid_vid_00171.mp4', 'uid_vid_00172.mp4', 'uid_vid_00173.mp4', 'uid_vid_00174.mp4', 'uid_vid_00175.mp4', 'uid_vid_00176.mp4', 'uid_vid_00177.mp4', 'uid_vid_00178.mp4', 'uid_vid_00179.mp4', 'uid_vid_00180.mp4', 'uid_vid_00181.mp4', 'uid_vid_00182.mp4', 'uid_vid_00183.mp4', 'uid_vid_00184.mp4', 'uid_vid_00185.mp4', 'uid_vid_00186.mp4', 'uid_vid_00187.mp4', 'uid_vid_00188.mp4', 'uid_vid_00189.mp4', 'uid_vid_00190.mp4', 'uid_vid_00191.mp4', 'uid_vid_00192.mp4', 'uid_vid_00193.mp4', 'uid_vid_00194.mp4', 'uid_vid_00195.mp4', 'uid_vid_00196.mp4', 'uid_vid_00197.mp4', 'uid_vid_00198.mp4', 'uid_vid_00199.mp4', 'uid_vid_00200.mp4', 'uid_vid_00201.mp4', 'uid_vid_00202.mp4', 'uid_vid_00203.mp4', 'uid_vid_00204.mp4', 'uid_vid_00205.mp4', 'uid_vid_00206.mp4', 'uid_vid_00207.mp4', 'uid_vid_00208.mp4', 'uid_vid_00209.mp4', 'uid_vid_00210.mp4', 'uid_vid_00211.mp4', 'uid_vid_00212.mp4', 'uid_vid_00213.mp4', 'uid_vid_00214.mp4', 'uid_vid_00215.mp4', 'uid_vid_00216.mp4', 'uid_vid_00217.mp4', 'uid_vid_00218.mp4', 'uid_vid_00219.mp4', 'uid_vid_00220.mp4', 'uid_vid_00221.mp4', 'uid_vid_00222.mp4', 'uid_vid_00223.mp4', 'uid_vid_00224.mp4', 'uid_vid_00225.mp4', 'uid_vid_00226.mp4', 'uid_vid_00227.mp4', 'uid_vid_00228.mp4', 'uid_vid_00229.mp4', 'uid_vid_00230.mp4', 'uid_vid_00231.mp4', 'uid_vid_00232.mp4', 'uid_vid_00233.mp4', 'uid_vid_00234.mp4', 'uid_vid_00235.mp4', 'uid_vid_00236.mp4', 'uid_vid_99999.mp4']\n",
      "Train videos: ['uid_vid_99999.mp4', 'uid_vid_00000.mp4', 'uid_vid_00001.mp4', 'uid_vid_00002.mp4', 'uid_vid_00003.mp4', 'uid_vid_00004.mp4', 'uid_vid_00005.mp4', 'uid_vid_00006.mp4', 'uid_vid_00007.mp4', 'uid_vid_00010.mp4', 'uid_vid_00012.mp4', 'uid_vid_00014.mp4', 'uid_vid_00015.mp4', 'uid_vid_00016.mp4', 'uid_vid_00017.mp4', 'uid_vid_00021.mp4', 'uid_vid_00022.mp4', 'uid_vid_00023.mp4', 'uid_vid_00025.mp4', 'uid_vid_00026.mp4', 'uid_vid_00027.mp4', 'uid_vid_00029.mp4', 'uid_vid_00032.mp4', 'uid_vid_00033.mp4', 'uid_vid_00034.mp4', 'uid_vid_00037.mp4', 'uid_vid_00039.mp4', 'uid_vid_00040.mp4', 'uid_vid_00041.mp4', 'uid_vid_00042.mp4', 'uid_vid_00044.mp4', 'uid_vid_00047.mp4', 'uid_vid_00049.mp4', 'uid_vid_00050.mp4', 'uid_vid_00052.mp4', 'uid_vid_00053.mp4', 'uid_vid_00054.mp4', 'uid_vid_00055.mp4', 'uid_vid_00058.mp4', 'uid_vid_00059.mp4', 'uid_vid_00060.mp4', 'uid_vid_00061.mp4', 'uid_vid_00062.mp4', 'uid_vid_00065.mp4', 'uid_vid_00070.mp4', 'uid_vid_00072.mp4', 'uid_vid_00073.mp4', 'uid_vid_00074.mp4', 'uid_vid_00075.mp4', 'uid_vid_00077.mp4', 'uid_vid_00081.mp4', 'uid_vid_00083.mp4', 'uid_vid_00084.mp4', 'uid_vid_00088.mp4', 'uid_vid_00089.mp4', 'uid_vid_00091.mp4', 'uid_vid_00093.mp4', 'uid_vid_00094.mp4', 'uid_vid_00095.mp4', 'uid_vid_00097.mp4', 'uid_vid_00101.mp4', 'uid_vid_00103.mp4', 'uid_vid_00104.mp4', 'uid_vid_00106.mp4', 'uid_vid_00108.mp4', 'uid_vid_00110.mp4', 'uid_vid_00111.mp4', 'uid_vid_00112.mp4', 'uid_vid_00115.mp4', 'uid_vid_00116.mp4', 'uid_vid_00145.mp4', 'uid_vid_00146.mp4', 'uid_vid_00148.mp4', 'uid_vid_00151.mp4', 'uid_vid_00152.mp4', 'uid_vid_00119.mp4', 'uid_vid_00120.mp4', 'uid_vid_00123.mp4', 'uid_vid_00128.mp4', 'uid_vid_00129.mp4', 'uid_vid_00131.mp4', 'uid_vid_00132.mp4', 'uid_vid_00134.mp4', 'uid_vid_00135.mp4', 'uid_vid_00136.mp4', 'uid_vid_00137.mp4', 'uid_vid_00140.mp4', 'uid_vid_00142.mp4', 'uid_vid_00143.mp4', 'uid_vid_00154.mp4', 'uid_vid_00155.mp4', 'uid_vid_00156.mp4', 'uid_vid_00157.mp4', 'uid_vid_00159.mp4', 'uid_vid_00160.mp4', 'uid_vid_00164.mp4', 'uid_vid_00165.mp4', 'uid_vid_00168.mp4', 'uid_vid_00171.mp4', 'uid_vid_00176.mp4', 'uid_vid_00177.mp4', 'uid_vid_00180.mp4', 'uid_vid_00181.mp4', 'uid_vid_00182.mp4', 'uid_vid_00184.mp4', 'uid_vid_00185.mp4', 'uid_vid_00186.mp4', 'uid_vid_00187.mp4', 'uid_vid_00188.mp4', 'uid_vid_00192.mp4', 'uid_vid_00194.mp4', 'uid_vid_00195.mp4', 'uid_vid_00196.mp4', 'uid_vid_00197.mp4', 'uid_vid_00199.mp4', 'uid_vid_00202.mp4', 'uid_vid_00203.mp4', 'uid_vid_00204.mp4', 'uid_vid_00206.mp4', 'uid_vid_00208.mp4', 'uid_vid_00209.mp4', 'uid_vid_00210.mp4', 'uid_vid_00211.mp4', 'uid_vid_00213.mp4', 'uid_vid_00214.mp4', 'uid_vid_00215.mp4', 'uid_vid_00216.mp4', 'uid_vid_00217.mp4', 'uid_vid_00220.mp4', 'uid_vid_00223.mp4', 'uid_vid_00224.mp4', 'uid_vid_00225.mp4', 'uid_vid_00227.mp4', 'uid_vid_00229.mp4', 'uid_vid_00231.mp4', 'uid_vid_00232.mp4', 'uid_vid_00233.mp4', 'uid_vid_00236.mp4']\n",
      "Test videos: ['uid_vid_00008.mp4', 'uid_vid_00009.mp4', 'uid_vid_00011.mp4', 'uid_vid_00013.mp4', 'uid_vid_00018.mp4', 'uid_vid_00019.mp4', 'uid_vid_00020.mp4', 'uid_vid_00024.mp4', 'uid_vid_00028.mp4', 'uid_vid_00030.mp4', 'uid_vid_00031.mp4', 'uid_vid_00035.mp4', 'uid_vid_00036.mp4', 'uid_vid_00038.mp4', 'uid_vid_00043.mp4', 'uid_vid_00045.mp4', 'uid_vid_00046.mp4', 'uid_vid_00048.mp4', 'uid_vid_00051.mp4', 'uid_vid_00056.mp4', 'uid_vid_00057.mp4', 'uid_vid_00063.mp4', 'uid_vid_00064.mp4', 'uid_vid_00066.mp4', 'uid_vid_00067.mp4', 'uid_vid_00068.mp4', 'uid_vid_00069.mp4', 'uid_vid_00071.mp4', 'uid_vid_00076.mp4', 'uid_vid_00078.mp4', 'uid_vid_00079.mp4', 'uid_vid_00080.mp4', 'uid_vid_00082.mp4', 'uid_vid_00085.mp4', 'uid_vid_00086.mp4', 'uid_vid_00087.mp4', 'uid_vid_00090.mp4', 'uid_vid_00092.mp4', 'uid_vid_00096.mp4', 'uid_vid_00098.mp4', 'uid_vid_00099.mp4', 'uid_vid_00100.mp4', 'uid_vid_00102.mp4', 'uid_vid_00105.mp4', 'uid_vid_00107.mp4', 'uid_vid_00109.mp4', 'uid_vid_00113.mp4', 'uid_vid_00114.mp4', 'uid_vid_00117.mp4', 'uid_vid_00144.mp4', 'uid_vid_00147.mp4', 'uid_vid_00149.mp4', 'uid_vid_00150.mp4', 'uid_vid_00118.mp4', 'uid_vid_00121.mp4', 'uid_vid_00122.mp4', 'uid_vid_00124.mp4', 'uid_vid_00125.mp4', 'uid_vid_00126.mp4', 'uid_vid_00127.mp4', 'uid_vid_00130.mp4', 'uid_vid_00133.mp4', 'uid_vid_00141.mp4', 'uid_vid_00153.mp4', 'uid_vid_00158.mp4', 'uid_vid_00161.mp4', 'uid_vid_00163.mp4', 'uid_vid_00166.mp4', 'uid_vid_00167.mp4', 'uid_vid_00169.mp4', 'uid_vid_00170.mp4', 'uid_vid_00172.mp4', 'uid_vid_00173.mp4', 'uid_vid_00174.mp4', 'uid_vid_00175.mp4', 'uid_vid_00178.mp4', 'uid_vid_00179.mp4', 'uid_vid_00183.mp4', 'uid_vid_00189.mp4', 'uid_vid_00190.mp4', 'uid_vid_00191.mp4', 'uid_vid_00193.mp4', 'uid_vid_00198.mp4', 'uid_vid_00200.mp4', 'uid_vid_00201.mp4', 'uid_vid_00205.mp4', 'uid_vid_00207.mp4', 'uid_vid_00212.mp4', 'uid_vid_00218.mp4', 'uid_vid_00219.mp4', 'uid_vid_00221.mp4', 'uid_vid_00222.mp4', 'uid_vid_00226.mp4', 'uid_vid_00228.mp4', 'uid_vid_00230.mp4', 'uid_vid_00162.mp4', 'uid_vid_00234.mp4', 'uid_vid_00235.mp4']\n",
      "Loading amodal annotations...\n",
      "Loading visible annotations...\n",
      "Annotations loaded successfully.\n"
     ]
    }
   ],
   "source": [
    "# Load video files\n",
    "video_files = [f for f in os.listdir(video_path) if f.endswith('.mp4')]\n",
    "print('Available video files:', video_files)\n",
    "\n",
    "# Load splits.json to define train and test sets\n",
    "with open(splits_file, 'r') as f:\n",
    "    splits = json.load(f)\n",
    "train_videos = splits.get('train', [])\n",
    "test_videos = splits.get('test', [])\n",
    "\n",
    "print('Train videos:', train_videos)\n",
    "print('Test videos:', test_videos)\n",
    "\n",
    "# Load annotations from centralized files\n",
    "def load_annotations():\n",
    "    \"\"\"Load annotations from amodal and visible files.\"\"\"\n",
    "    print(\"Loading amodal annotations...\")\n",
    "    with open(amodal_file, 'r') as f:\n",
    "        amodal_data = json.load(f)\n",
    "    print(\"Loading visible annotations...\")\n",
    "    with open(visible_file, 'r') as f:\n",
    "        visible_data = json.load(f)\n",
    "    print(\"Annotations loaded successfully.\")\n",
    "    return amodal_data, visible_data\n",
    "\n",
    "amodal_data, visible_data = load_annotations()"
   ]
  },
  {
   "cell_type": "code",
   "execution_count": 4,
   "metadata": {},
   "outputs": [],
   "source": [
    "# Extract annotation data for a specific video\n",
    "def get_annotations(video_name):\n",
    "    \"\"\"Retrieve the annotation data for a specific video from both general and individual files.\"\"\"\n",
    "    \n",
    "    # Paths to individual annotation files\n",
    "    individual_amodal_file = os.path.join(annotation_dir, 'anno_amodal_2022', f'{video_name}.json')\n",
    "    individual_visible_file = os.path.join(annotation_dir, 'anno_visible_2022', f'{video_name}.json')\n",
    "\n",
    "    amodal_annos = []\n",
    "    visible_annos = []\n",
    "\n",
    "    # Load individual amodal annotations if available\n",
    "    if os.path.exists(individual_amodal_file):\n",
    "        print(f\"Loading individual amodal annotations for {video_name}...\")\n",
    "        with open(individual_amodal_file, 'r') as f:\n",
    "            amodal_annos = json.load(f).get('entities', [])\n",
    "    else:\n",
    "        print(f\"No individual amodal annotations found for video: {video_name}\")\n",
    "\n",
    "    # Load individual visible annotations if available\n",
    "    if os.path.exists(individual_visible_file):\n",
    "        print(f\"Loading individual visible annotations for {video_name}...\")\n",
    "        with open(individual_visible_file, 'r') as f:\n",
    "            visible_annos = json.load(f).get('entities', [])\n",
    "    else:\n",
    "        print(f\"No individual visible annotations found for video: {video_name}\")\n",
    "\n",
    "    return amodal_annos, visible_annos\n",
    "\n",
    "# Preprocess videos and annotations\n",
    "def preprocess_data(video_file, amodal_annos, visible_annos):\n",
    "    \"\"\"Preprocess video frames and match them with corresponding annotations.\"\"\"\n",
    "    print(f\"Processing video: {video_file}...\")\n",
    "    cap = cv2.VideoCapture(video_file)\n",
    "    frames, labels = [], []\n",
    "    frame_labels = {}\n",
    "\n",
    "    # Map frame indices to 'person' labels from both amodal and visible annotations\n",
    "    for entity in amodal_annos + visible_annos:\n",
    "        frame_idx = entity['blob']['frame_idx']\n",
    "        label = entity['labels'].get('reflection', 0)  # Use reflection for example\n",
    "        frame_labels[frame_idx] = label\n",
    "\n",
    "    frame_idx = 0\n",
    "    while cap.isOpened():\n",
    "        ret, frame = cap.read()\n",
    "        if not ret:\n",
    "            print(f\"Finished reading {video_file}. Total frames processed: {len(frames)}\")\n",
    "            break\n",
    "\n",
    "        # Resize frame to 32x32 (downsample further)\n",
    "        frame = cv2.resize(frame, (32, 32))\n",
    "        frames.append(frame)\n",
    "\n",
    "        # Assign label for current frame\n",
    "        label = frame_labels.get(frame_idx, 0)\n",
    "        labels.append(label)\n",
    "\n",
    "        frame_idx += 1\n",
    "\n",
    "    cap.release()\n",
    "    return np.array(frames), np.array(labels)"
   ]
  },
  {
   "cell_type": "code",
   "execution_count": 5,
   "metadata": {},
   "outputs": [
    {
     "name": "stdout",
     "output_type": "stream",
     "text": [
      "Loading processed data...\n",
      "Train data shape: X=(89967, 10, 3072), y=(89967,)\n",
      "Test data shape: X=(61736, 10, 3072), y=(61736,)\n"
     ]
    }
   ],
   "source": [
    "# Dataset loading based on the splits.json\n",
    "def load_dataset(video_list):\n",
    "    \"\"\"Load all videos and their annotations according to the provided split.\"\"\"\n",
    "    X, y = [], []\n",
    "\n",
    "    for video_name in video_list:\n",
    "        video_file = os.path.join(video_path, video_name)\n",
    "        amodal_annos, visible_annos = get_annotations(video_name)\n",
    "\n",
    "        # Preprocess video and annotations\n",
    "        frames, labels = preprocess_data(video_file, amodal_annos, visible_annos)\n",
    "\n",
    "        # Create time-series data for LSTM\n",
    "        X_video, y_video = create_dataset(frames, labels)\n",
    "        X.extend(X_video)\n",
    "        y.extend(y_video)\n",
    "\n",
    "    return np.array(X), np.array(y)\n",
    "\n",
    "# Prepare time-series data for LSTM\n",
    "def create_dataset(frames, labels, time_step=10):\n",
    "    \"\"\"Create time-series data for LSTM training.\"\"\"\n",
    "    X, y = [], []\n",
    "    for i in range(len(frames) - time_step):\n",
    "        X.append(frames[i:i + time_step].reshape(time_step, -1))  # Reshape to (time_step, features)\n",
    "        y.append(labels[i + time_step])\n",
    "    return np.array(X), np.array(y)\n",
    "\n",
    "# Check if processed data already exists\n",
    "if os.path.exists(processed_data_path):\n",
    "    print(\"Loading processed data...\")\n",
    "    processed_data = np.load(processed_data_path)\n",
    "    X_train = processed_data['X_train']\n",
    "    y_train = processed_data['y_train']\n",
    "    X_test = processed_data['X_test']\n",
    "    y_test = processed_data['y_test']\n",
    "else:\n",
    "    # Load train and test datasets\n",
    "    print('Loading training dataset...')\n",
    "    X_train, y_train = load_dataset(train_videos)\n",
    "    print('Loading testing dataset...')\n",
    "    X_test, y_test = load_dataset(test_videos)\n",
    "\n",
    "    # Save processed data to disk\n",
    "    np.savez(processed_data_path, X_train=X_train, y_train=y_train, X_test=X_test, y_test=y_test)\n",
    "    print(f\"Processed data saved to {processed_data_path}\")\n",
    "\n",
    "print(f'Train data shape: X={X_train.shape}, y={y_train.shape}')\n",
    "print(f'Test data shape: X={X_test.shape}, y={y_test.shape}')"
   ]
  },
  {
   "cell_type": "code",
   "execution_count": 6,
   "metadata": {},
   "outputs": [
    {
     "name": "stderr",
     "output_type": "stream",
     "text": [
      "c:\\Users\\Joshua Menezes\\AppData\\Local\\Programs\\Python\\Python312\\Lib\\site-packages\\keras\\src\\layers\\rnn\\rnn.py:204: UserWarning: Do not pass an `input_shape`/`input_dim` argument to a layer. When using Sequential models, prefer using an `Input(shape)` object as the first layer in the model instead.\n",
      "  super().__init__(**kwargs)\n"
     ]
    },
    {
     "data": {
      "text/html": [
       "<pre style=\"white-space:pre;overflow-x:auto;line-height:normal;font-family:Menlo,'DejaVu Sans Mono',consolas,'Courier New',monospace\"><span style=\"font-weight: bold\">Model: \"sequential\"</span>\n",
       "</pre>\n"
      ],
      "text/plain": [
       "\u001b[1mModel: \"sequential\"\u001b[0m\n"
      ]
     },
     "metadata": {},
     "output_type": "display_data"
    },
    {
     "data": {
      "text/html": [
       "<pre style=\"white-space:pre;overflow-x:auto;line-height:normal;font-family:Menlo,'DejaVu Sans Mono',consolas,'Courier New',monospace\">┏━━━━━━━━━━━━━━━━━━━━━━━━━━━━━━━━━┳━━━━━━━━━━━━━━━━━━━━━━━━┳━━━━━━━━━━━━━━━┓\n",
       "┃<span style=\"font-weight: bold\"> Layer (type)                    </span>┃<span style=\"font-weight: bold\"> Output Shape           </span>┃<span style=\"font-weight: bold\">       Param # </span>┃\n",
       "┡━━━━━━━━━━━━━━━━━━━━━━━━━━━━━━━━━╇━━━━━━━━━━━━━━━━━━━━━━━━╇━━━━━━━━━━━━━━━┩\n",
       "│ lstm (<span style=\"color: #0087ff; text-decoration-color: #0087ff\">LSTM</span>)                     │ (<span style=\"color: #00d7ff; text-decoration-color: #00d7ff\">None</span>, <span style=\"color: #00af00; text-decoration-color: #00af00\">50</span>)             │       <span style=\"color: #00af00; text-decoration-color: #00af00\">624,600</span> │\n",
       "├─────────────────────────────────┼────────────────────────┼───────────────┤\n",
       "│ dropout (<span style=\"color: #0087ff; text-decoration-color: #0087ff\">Dropout</span>)               │ (<span style=\"color: #00d7ff; text-decoration-color: #00d7ff\">None</span>, <span style=\"color: #00af00; text-decoration-color: #00af00\">50</span>)             │             <span style=\"color: #00af00; text-decoration-color: #00af00\">0</span> │\n",
       "├─────────────────────────────────┼────────────────────────┼───────────────┤\n",
       "│ dense (<span style=\"color: #0087ff; text-decoration-color: #0087ff\">Dense</span>)                   │ (<span style=\"color: #00d7ff; text-decoration-color: #00d7ff\">None</span>, <span style=\"color: #00af00; text-decoration-color: #00af00\">1</span>)              │            <span style=\"color: #00af00; text-decoration-color: #00af00\">51</span> │\n",
       "└─────────────────────────────────┴────────────────────────┴───────────────┘\n",
       "</pre>\n"
      ],
      "text/plain": [
       "┏━━━━━━━━━━━━━━━━━━━━━━━━━━━━━━━━━┳━━━━━━━━━━━━━━━━━━━━━━━━┳━━━━━━━━━━━━━━━┓\n",
       "┃\u001b[1m \u001b[0m\u001b[1mLayer (type)                   \u001b[0m\u001b[1m \u001b[0m┃\u001b[1m \u001b[0m\u001b[1mOutput Shape          \u001b[0m\u001b[1m \u001b[0m┃\u001b[1m \u001b[0m\u001b[1m      Param #\u001b[0m\u001b[1m \u001b[0m┃\n",
       "┡━━━━━━━━━━━━━━━━━━━━━━━━━━━━━━━━━╇━━━━━━━━━━━━━━━━━━━━━━━━╇━━━━━━━━━━━━━━━┩\n",
       "│ lstm (\u001b[38;5;33mLSTM\u001b[0m)                     │ (\u001b[38;5;45mNone\u001b[0m, \u001b[38;5;34m50\u001b[0m)             │       \u001b[38;5;34m624,600\u001b[0m │\n",
       "├─────────────────────────────────┼────────────────────────┼───────────────┤\n",
       "│ dropout (\u001b[38;5;33mDropout\u001b[0m)               │ (\u001b[38;5;45mNone\u001b[0m, \u001b[38;5;34m50\u001b[0m)             │             \u001b[38;5;34m0\u001b[0m │\n",
       "├─────────────────────────────────┼────────────────────────┼───────────────┤\n",
       "│ dense (\u001b[38;5;33mDense\u001b[0m)                   │ (\u001b[38;5;45mNone\u001b[0m, \u001b[38;5;34m1\u001b[0m)              │            \u001b[38;5;34m51\u001b[0m │\n",
       "└─────────────────────────────────┴────────────────────────┴───────────────┘\n"
      ]
     },
     "metadata": {},
     "output_type": "display_data"
    },
    {
     "data": {
      "text/html": [
       "<pre style=\"white-space:pre;overflow-x:auto;line-height:normal;font-family:Menlo,'DejaVu Sans Mono',consolas,'Courier New',monospace\"><span style=\"font-weight: bold\"> Total params: </span><span style=\"color: #00af00; text-decoration-color: #00af00\">624,651</span> (2.38 MB)\n",
       "</pre>\n"
      ],
      "text/plain": [
       "\u001b[1m Total params: \u001b[0m\u001b[38;5;34m624,651\u001b[0m (2.38 MB)\n"
      ]
     },
     "metadata": {},
     "output_type": "display_data"
    },
    {
     "data": {
      "text/html": [
       "<pre style=\"white-space:pre;overflow-x:auto;line-height:normal;font-family:Menlo,'DejaVu Sans Mono',consolas,'Courier New',monospace\"><span style=\"font-weight: bold\"> Trainable params: </span><span style=\"color: #00af00; text-decoration-color: #00af00\">624,651</span> (2.38 MB)\n",
       "</pre>\n"
      ],
      "text/plain": [
       "\u001b[1m Trainable params: \u001b[0m\u001b[38;5;34m624,651\u001b[0m (2.38 MB)\n"
      ]
     },
     "metadata": {},
     "output_type": "display_data"
    },
    {
     "data": {
      "text/html": [
       "<pre style=\"white-space:pre;overflow-x:auto;line-height:normal;font-family:Menlo,'DejaVu Sans Mono',consolas,'Courier New',monospace\"><span style=\"font-weight: bold\"> Non-trainable params: </span><span style=\"color: #00af00; text-decoration-color: #00af00\">0</span> (0.00 B)\n",
       "</pre>\n"
      ],
      "text/plain": [
       "\u001b[1m Non-trainable params: \u001b[0m\u001b[38;5;34m0\u001b[0m (0.00 B)\n"
      ]
     },
     "metadata": {},
     "output_type": "display_data"
    }
   ],
   "source": [
    "# Build LSTM Model\n",
    "model = Sequential()\n",
    "model.add(LSTM(50, input_shape=(X_train.shape[1], X_train.shape[2])))\n",
    "model.add(Dropout(0.2))\n",
    "model.add(Dense(1, activation='sigmoid'))  # Binary classification\n",
    "model.compile(loss='binary_crossentropy', optimizer='adam', metrics=['accuracy'])\n",
    "model.summary()\n"
   ]
  },
  {
   "cell_type": "code",
   "execution_count": 10,
   "metadata": {},
   "outputs": [
    {
     "name": "stdout",
     "output_type": "stream",
     "text": [
      "Epoch 1/10\n",
      "\u001b[1m2250/2250\u001b[0m \u001b[32m━━━━━━━━━━━━━━━━━━━━\u001b[0m\u001b[37m\u001b[0m \u001b[1m32s\u001b[0m 14ms/step - accuracy: 0.9991 - loss: 0.0076 - val_accuracy: 0.9993 - val_loss: 0.0060\n",
      "Epoch 2/10\n",
      "\u001b[1m2250/2250\u001b[0m \u001b[32m━━━━━━━━━━━━━━━━━━━━\u001b[0m\u001b[37m\u001b[0m \u001b[1m32s\u001b[0m 14ms/step - accuracy: 0.9992 - loss: 0.0068 - val_accuracy: 0.9993 - val_loss: 0.0060\n",
      "Epoch 3/10\n",
      "\u001b[1m2250/2250\u001b[0m \u001b[32m━━━━━━━━━━━━━━━━━━━━\u001b[0m\u001b[37m\u001b[0m \u001b[1m30s\u001b[0m 13ms/step - accuracy: 0.9992 - loss: 0.0067 - val_accuracy: 0.9993 - val_loss: 0.0060\n",
      "Epoch 4/10\n",
      "\u001b[1m2250/2250\u001b[0m \u001b[32m━━━━━━━━━━━━━━━━━━━━\u001b[0m\u001b[37m\u001b[0m \u001b[1m32s\u001b[0m 14ms/step - accuracy: 0.9991 - loss: 0.0073 - val_accuracy: 0.9993 - val_loss: 0.0060\n",
      "Epoch 5/10\n",
      "\u001b[1m2250/2250\u001b[0m \u001b[32m━━━━━━━━━━━━━━━━━━━━\u001b[0m\u001b[37m\u001b[0m \u001b[1m31s\u001b[0m 14ms/step - accuracy: 0.9993 - loss: 0.0064 - val_accuracy: 0.9993 - val_loss: 0.0059\n",
      "Epoch 6/10\n",
      "\u001b[1m2250/2250\u001b[0m \u001b[32m━━━━━━━━━━━━━━━━━━━━\u001b[0m\u001b[37m\u001b[0m \u001b[1m34s\u001b[0m 15ms/step - accuracy: 0.9992 - loss: 0.0069 - val_accuracy: 0.9993 - val_loss: 0.0060\n",
      "Epoch 7/10\n",
      "\u001b[1m2250/2250\u001b[0m \u001b[32m━━━━━━━━━━━━━━━━━━━━\u001b[0m\u001b[37m\u001b[0m \u001b[1m32s\u001b[0m 14ms/step - accuracy: 0.9992 - loss: 0.0070 - val_accuracy: 0.9993 - val_loss: 0.0060\n",
      "Epoch 8/10\n",
      "\u001b[1m2250/2250\u001b[0m \u001b[32m━━━━━━━━━━━━━━━━━━━━\u001b[0m\u001b[37m\u001b[0m \u001b[1m31s\u001b[0m 14ms/step - accuracy: 0.9988 - loss: 0.0092 - val_accuracy: 0.9993 - val_loss: 0.0060\n",
      "Epoch 9/10\n",
      "\u001b[1m2250/2250\u001b[0m \u001b[32m━━━━━━━━━━━━━━━━━━━━\u001b[0m\u001b[37m\u001b[0m \u001b[1m33s\u001b[0m 15ms/step - accuracy: 0.9991 - loss: 0.0075 - val_accuracy: 0.9993 - val_loss: 0.0059\n",
      "Epoch 10/10\n",
      "\u001b[1m2250/2250\u001b[0m \u001b[32m━━━━━━━━━━━━━━━━━━━━\u001b[0m\u001b[37m\u001b[0m \u001b[1m31s\u001b[0m 14ms/step - accuracy: 0.9994 - loss: 0.0054 - val_accuracy: 0.9993 - val_loss: 0.0059\n"
     ]
    },
    {
     "data": {
      "image/png": "[encoded data removed]",
      "text/plain": [
       "<Figure size 1200x600 with 2 Axes>"
      ]
     },
     "metadata": {},
     "output_type": "display_data"
    },
    {
     "name": "stdout",
     "output_type": "stream",
     "text": [
      "\u001b[1m1930/1930\u001b[0m \u001b[32m━━━━━━━━━━━━━━━━━━━━\u001b[0m\u001b[37m\u001b[0m \u001b[1m8s\u001b[0m 4ms/step - accuracy: 0.9976 - loss: 0.0176\n",
      "Test Loss: 0.017556605860590935\n",
      "Test Accuracy: 0.9976512789726257\n"
     ]
    }
   ],
   "source": [
    "# Train the Model\n",
    "history = model.fit(X_train, y_train, batch_size=32, epochs=10, validation_split=0.2)\n",
    "\n",
    "# Plot Training History\n",
    "# Plot Training and Validation Accuracy\n",
    "plt.figure(figsize=(12, 6))\n",
    "\n",
    "# Accuracy Plot\n",
    "plt.subplot(1, 2, 1)\n",
    "plt.plot(history.history['accuracy'], label='Training Accuracy')\n",
    "plt.plot(history.history['val_accuracy'], label='Validation Accuracy')\n",
    "plt.xlabel('Epoch')\n",
    "plt.ylabel('Accuracy')\n",
    "plt.legend(loc='upper left')\n",
    "plt.title('Training vs Validation Accuracy')\n",
    "\n",
    "# Loss Plot\n",
    "plt.subplot(1, 2, 2)\n",
    "plt.plot(history.history['loss'], label='Training Loss')\n",
    "plt.plot(history.history['val_loss'], label='Validation Loss')\n",
    "plt.xlabel('Epoch')\n",
    "plt.ylabel('Loss')\n",
    "plt.legend(loc='upper left')\n",
    "plt.title('Training vs Validation Loss')\n",
    "\n",
    "plt.show()\n",
    "\n",
    "\n",
    "# Evaluate the Model\n",
    "loss, accuracy = model.evaluate(X_test, y_test)\n",
    "print('Test Loss:', loss)\n",
    "print('Test Accuracy:', accuracy)"
   ]
  },
  {
   "cell_type": "code",
   "execution_count": 8,
   "metadata": {},
   "outputs": [
    {
     "name": "stderr",
     "output_type": "stream",
     "text": [
      "WARNING:absl:You are saving your model as an HDF5 file via `model.save()` or `keras.saving.save_model(model)`. This file format is considered legacy. We recommend using instead the native Keras format, e.g. `model.save('my_model.keras')` or `keras.saving.save_model(model, 'my_model.keras')`. \n"
     ]
    },
    {
     "name": "stdout",
     "output_type": "stream",
     "text": [
      "Model saved to 'human_detection_model.h5'\n"
     ]
    }
   ],
   "source": [
    "# Save the Model\n",
    "\n",
    "model_json = model.to_json()\n",
    "with open(\"human_detection_model.json\",'w') as json_file:\n",
    "    json_file.write(model_json)\n",
    "model.save(\"human_detection_model.h5\")\n",
    "\n",
    "print(\"Model saved to 'human_detection_model.h5'\")"
   ]
  }
 ],
 "metadata": {
  "kernelspec": {
   "display_name": "Python 3",
   "language": "python",
   "name": "python3"
  },
  "language_info": {
   "codemirror_mode": {
    "name": "ipython",
    "version": 3
   },
   "file_extension": ".py",
   "mimetype": "text/x-python",
   "name": "python",
   "nbconvert_exporter": "python",
   "pygments_lexer": "ipython3",
   "version": "3.12.7"
  }
 },
 "nbformat": 4,
 "nbformat_minor": 2
}
